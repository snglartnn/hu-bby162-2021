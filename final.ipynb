{
  "nbformat": 4,
  "nbformat_minor": 0,
  "metadata": {
    "colab": {
      "name": " final.ipynb",
      "provenance": [],
      "collapsed_sections": [],
      "mount_file_id": "1Pz6QwYcx0fwF3oRwsxFNtpDqcUBJ8OQp",
      "authorship_tag": "ABX9TyMRt2/YiDLfGRBtt9Rt4wOg",
      "include_colab_link": true
    },
    "kernelspec": {
      "name": "python3",
      "display_name": "Python 3"
    },
    "language_info": {
      "name": "python"
    }
  },
  "cells": [
    {
      "cell_type": "markdown",
      "metadata": {
        "id": "view-in-github",
        "colab_type": "text"
      },
      "source": [
        "<a href=\"https://colab.research.google.com/github/snglartnn/hu-bby162-2021/blob/main/final.ipynb\" target=\"_parent\"><img src=\"https://colab.research.google.com/assets/colab-badge.svg\" alt=\"Open In Colab\"/></a>"
      ]
    },
    {
      "cell_type": "markdown",
      "metadata": {
        "id": "GrRU3Mz4EVqz"
      },
      "source": [
        "Final Projesi\n"
      ]
    },
    {
      "cell_type": "code",
      "metadata": {
        "id": "Gey6XqEd6ITz"
      },
      "source": [
        "#Kütüphane Kataloğu\n",
        "# Veri kaydım : /content/drive/MyDrive/Colab Notebooks/HU-BBY162-2021/final.txt\n",
        "dosya =  \"/content/drive/MyDrive/Colab Notebooks/HU-BBY162-2021/final.txt\"\n",
        "def eserListesi():\n",
        "  dosya =  \"/content/drive/MyDrive/Colab Notebooks/HU-BBY162-2021/final.txt\"\n",
        "  f = open(dosya, \"r\") \n",
        "\n",
        "  for line in f.readlines():\n",
        "      print(line)\n",
        "\n",
        "  f.close()\n",
        "\n",
        "\n",
        "\n",
        "def eserKaydet():\n",
        "  ad = input(\" Eser adı giriniz: \")\n",
        "  yazar = input(\" Yazar adı giriniz: \")\n",
        "  yayın = input(\" Yayınevi giriniz: \")\n",
        "  basım = input(\" Basım tarihi giriniz: \")\n",
        "  Isbn = input(\" ISBN numarası giriniz: \")\n",
        "\n",
        "  dosya = \"/content/drive/MyDrive/Colab Notebooks/HU-BBY162-2021/final.txt\"\n",
        "  f = open(dosya, 'a') \n",
        "  f.write(ad+ \",\" +yazar+ \".\" +yayın+ \",\" +basım+ \",\" +Isbn+ \"\\n\")\n",
        "  f.close()\n",
        "\n",
        "  \n",
        "\n",
        "def menu():\n",
        "  print(\" *** Kütüphane Kataloğu Otomasyon Sistemi *** \")\n",
        "  while True:\n",
        "    print(\" 1- Çıkış Yap.\")\n",
        "    print(\" 2- Eser Görüntüle\")\n",
        "    print(\" 3- Eser Kaydet\")\n",
        "    islem = input(\" Yapmak istediğiniz işlemi seçiniz (1/3): \")\n",
        "    if islem == \"1\":\n",
        "      print(\" Çıkış yapılmıştır.\")\n",
        "      break\n",
        "    elif islem == \"2\":\n",
        "      eserListesi()\n",
        "    elif islem == \"3\":\n",
        "      eserKaydet()\n",
        "      \n",
        "menu()\n",
        "\n",
        "\n",
        "\n",
        "\n",
        "\n",
        "\n",
        "\n",
        "\n",
        "\n",
        "\n",
        "\n",
        "\n",
        "\n",
        "\n",
        "\n",
        "\n",
        "\n",
        "\n",
        "\n",
        "\n",
        "\n"
      ],
      "execution_count": null,
      "outputs": []
    }
  ]
}
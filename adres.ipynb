{
  "nbformat": 4,
  "nbformat_minor": 0,
  "metadata": {
    "colab": {
      "name": "proje.ipynb",
      "provenance": [],
      "authorship_tag": "ABX9TyOWzSgEOs5AX4GwGH4jV8FY",
      "include_colab_link": true
    },
    "kernelspec": {
      "name": "python3",
      "display_name": "Python 3"
    },
    "language_info": {
      "name": "python"
    }
  },
  "cells": [
    {
      "cell_type": "markdown",
      "metadata": {
        "id": "view-in-github",
        "colab_type": "text"
      },
      "source": [
        "<a href=\"https://colab.research.google.com/github/snglartnn/hu-bby162-2021/blob/main/adres.ipynb\" target=\"_parent\"><img src=\"https://colab.research.google.com/assets/colab-badge.svg\" alt=\"Open In Colab\"/></a>"
      ]
    },
    {
      "cell_type": "code",
      "metadata": {
        "colab": {
          "base_uri": "https://localhost:8080/"
        },
        "id": "RnP8VekNg9fB",
        "outputId": "89518f10-690d-497d-d529-2db759ea6ef4"
      },
      "source": [
        "dosya = \"/content/drive/MyDrive/Colab Notebooks/HU-BBY162-2021/adres.txt\"\n",
        "\n",
        "adSoyad = input(\"Ad soyad giriniz: \")\n",
        "\n",
        "email = input(\"Email giriniz: \")\n",
        "f = open(dosya, 'a') # Mevcut veriye ek veri yazılması için parametre: 'a'\n",
        "f.write(adSoyad + \" | \" + email + \"\\n\")\n",
        "f.close()\n",
        "\n",
        "dosya =  \"/content/drive/MyDrive/Colab Notebooks/HU-BBY162-2021/adres.txt\"\n",
        "\n",
        "f = open(dosya, \"r\") \n",
        "\n",
        "for line in f.readlines():\n",
        "    print(line)\n",
        "\n",
        "f.close()"
      ],
      "execution_count": 3,
      "outputs": [
        {
          "output_type": "stream",
          "text": [
            "Ad soyad giriniz: Songül Artan\n",
            "Email giriniz: songulartan@hotmail.com\n",
            "Songül\n",
            "\n",
            "Artan\n",
            "\n",
            "songulartan@hotmail.com\n",
            "\n",
            "Songül Artan | songulartan@hotmail.com\n",
            "\n"
          ],
          "name": "stdout"
        }
      ]
    }
  ]
}